{
 "cells": [
  {
   "cell_type": "markdown",
   "id": "2e46c664",
   "metadata": {},
   "source": [
    "## Converte os arquivos para o formato JSON"
   ]
  },
  {
   "cell_type": "code",
   "execution_count": 1,
   "id": "3af3a029",
   "metadata": {},
   "outputs": [],
   "source": [
    "import json\n",
    "import pandas as pd\n",
    "from pathlib import Path\n",
    "from urllib.request import urlopen\n",
    "from xml.etree import ElementTree\n",
    "import xml.etree.ElementTree as ET"
   ]
  },
  {
   "cell_type": "code",
   "execution_count": 2,
   "id": "3483bf2b",
   "metadata": {},
   "outputs": [],
   "source": [
    "def trec_to_json(path=''):\n",
    "    with open(path, 'r', encoding='ISO_8859_1') as f:\n",
    "        fsp = f.read().replace('\\n','').replace('&', 'e')\n",
    "        \n",
    "    fsp  =  fsp[:0] +'<FILE>'+ fsp[0:] \n",
    "    fsp  =  fsp[:-1]+'></FILE'+ fsp[-1:] \n",
    "          \n",
    "    fsp_list_json = list()\n",
    "\n",
    "    e = ET.ElementTree(ET.fromstring(fsp))\n",
    " \n",
    "    for elt in e.iter():\n",
    "        if  elt.tag == 'DOCID' or elt.tag == 'TEXT': \n",
    "\n",
    "            if elt.tag =='TEXT':\n",
    "                dict_key_value = {'TEXT': elt.text}\n",
    "            else:\n",
    "                dict_key_value = {'DOCID': elt.text}\n",
    "\n",
    "            fsp_list_json.append(dict_key_value)    \n",
    "     \n",
    "    ini_list = iter(fsp_list_json)             \n",
    "    res = [h  |  next(ini_list, '') for h in ini_list] \n",
    "    output = json.loads(json.dumps(res, indent=2))\n",
    "    \n",
    "    return output"
   ]
  },
  {
   "cell_type": "code",
   "execution_count": 3,
   "id": "765ad67a",
   "metadata": {},
   "outputs": [],
   "source": [
    "def save_json_to_disk(name:'',file):\n",
    "    with open(name, 'w', encoding='utf-8') as f:\n",
    "        json.dump(file, f, ensure_ascii=False, indent=2)"
   ]
  },
  {
   "cell_type": "code",
   "execution_count": 4,
   "id": "7cc14c61",
   "metadata": {},
   "outputs": [],
   "source": [
    "from pathlib import Path\n",
    "path = Path('./FSP95/')\n",
    "fsp_path = path.glob('FSP.95*.sgml')\n",
    "\n",
    "for open_path in sorted(fsp_path):\n",
    "    fsp_json = trec_to_json(open_path)\n",
    "    save_json_to_disk('./FSP95/json/'+open_path.stem+'.json',fsp_json)"
   ]
  },
  {
   "cell_type": "markdown",
   "id": "c8fa517b",
   "metadata": {},
   "source": [
    "## Executa as consultas no arquivo de tópico e gera saida no formato TREC"
   ]
  },
  {
   "cell_type": "code",
   "execution_count": 5,
   "id": "9d171736",
   "metadata": {},
   "outputs": [],
   "source": [
    "try:\n",
    "    import urllib.request as urllib2\n",
    "except ImportError:\n",
    "    import urllib2\n",
    "\n",
    "outputFile = './saida.txt'\n",
    "f = open(outputFile, 'w')\n",
    "\n",
    "queries = pd.read_csv('./queries.csv')\n",
    "qId = ''\n",
    "qText = ''\n",
    "IRModel='andremediote'\n",
    "\n",
    "for q in queries.iterrows():\n",
    "    qID = queries['id'][q[0]]\n",
    "    qText = queries['query'][q[0]]\n",
    "    qText = urllib2.quote(qText)\n",
    "    inurl = 'http://localhost:8983/solr/fsp/select?q.op=OR&q=TEXT%3A'+qText+'&fl=DOCID%2Cscore&wt=json&indent=true&rows=100'\n",
    "    data = urllib2.urlopen(inurl)\n",
    "    docs = json.load(data)['response']['docs']\n",
    "    rank = 0\n",
    "    for doc in docs:\n",
    "        f.write(str(qID)+'    '+'Q0'+'    '+str(doc['DOCID']).replace('[','').replace(\"'\",'').replace(']','')+'    '+str(rank).ljust(4)+'  '+str(doc['score'])[:7].rjust(7, '0')+'    '+IRModel+ '\\n')\n",
    "        rank += 1\n",
    "\n",
    "f.close()"
   ]
  },
  {
   "cell_type": "code",
   "execution_count": null,
   "id": "08529c89",
   "metadata": {},
   "outputs": [],
   "source": []
  }
 ],
 "metadata": {
  "kernelspec": {
   "display_name": "Python 3 (ipykernel)",
   "language": "python",
   "name": "python3"
  },
  "language_info": {
   "codemirror_mode": {
    "name": "ipython",
    "version": 3
   },
   "file_extension": ".py",
   "mimetype": "text/x-python",
   "name": "python",
   "nbconvert_exporter": "python",
   "pygments_lexer": "ipython3",
   "version": "3.9.0"
  }
 },
 "nbformat": 4,
 "nbformat_minor": 5
}
